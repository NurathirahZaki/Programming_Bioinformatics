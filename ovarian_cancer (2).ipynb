{
  "cells": [
    {
      "cell_type": "markdown",
      "metadata": {
        "id": "CVIkZv3ujax7"
      },
      "source": [
        "## DATA PREPROCESSING"
      ]
    },
    {
      "cell_type": "code",
      "execution_count": null,
      "metadata": {
        "id": "PAITbrr6jax8"
      },
      "outputs": [],
      "source": [
        "import pandas as pd\n",
        "import numpy as np\n",
        "from sklearn.preprocessing import LabelEncoder\n",
        "from sklearn.preprocessing import MinMaxScaler\n",
        "from sklearn.ensemble import RandomForestClassifier\n",
        "from sklearn.metrics import accuracy_score, f1_score\n",
        "from sklearn.model_selection import train_test_split\n",
        "from sklearn.svm import SVC\n",
        "from sklearn.feature_selection import RFE, SelectKBest, chi2\n",
        "from sklearn.model_selection import cross_val_score\n",
        "from sklearn.preprocessing import StandardScaler\n",
        "from sklearn.model_selection import StratifiedKFold\n",
        "import matplotlib.pyplot as plt\n",
        "import seaborn as sns\n"
      ]
    },
    {
      "cell_type": "code",
      "execution_count": null,
      "metadata": {
        "id": "HLt1dgHvjax9",
        "outputId": "9b194bb9-d197-411f-8177-475931ec380e"
      },
      "outputs": [
        {
          "data": {
            "text/html": [
              "<div>\n",
              "<style scoped>\n",
              "    .dataframe tbody tr th:only-of-type {\n",
              "        vertical-align: middle;\n",
              "    }\n",
              "\n",
              "    .dataframe tbody tr th {\n",
              "        vertical-align: top;\n",
              "    }\n",
              "\n",
              "    .dataframe thead th {\n",
              "        text-align: right;\n",
              "    }\n",
              "</style>\n",
              "<table border=\"1\" class=\"dataframe\">\n",
              "  <thead>\n",
              "    <tr style=\"text-align: right;\">\n",
              "      <th></th>\n",
              "      <th>id</th>\n",
              "      <th>MZ-7.86E-05</th>\n",
              "      <th>MZ2.18E-07</th>\n",
              "      <th>MZ9.60E-05</th>\n",
              "      <th>MZ0.000366014</th>\n",
              "      <th>MZ0.000810195</th>\n",
              "      <th>MZ0.001428564</th>\n",
              "      <th>MZ0.002221123</th>\n",
              "      <th>MZ0.003187869</th>\n",
              "      <th>MZ0.004328805</th>\n",
              "      <th>...</th>\n",
              "      <th>MZ19974.404</th>\n",
              "      <th>MZ19977.042</th>\n",
              "      <th>MZ19979.68</th>\n",
              "      <th>MZ19982.319</th>\n",
              "      <th>MZ19984.957</th>\n",
              "      <th>MZ19987.596</th>\n",
              "      <th>MZ19990.235</th>\n",
              "      <th>MZ19992.874</th>\n",
              "      <th>MZ19995.513</th>\n",
              "      <th>Class</th>\n",
              "    </tr>\n",
              "  </thead>\n",
              "  <tbody>\n",
              "    <tr>\n",
              "      <th>0</th>\n",
              "      <td>1</td>\n",
              "      <td>0.494626</td>\n",
              "      <td>0.263735</td>\n",
              "      <td>0.321841</td>\n",
              "      <td>0.220934</td>\n",
              "      <td>0.297622</td>\n",
              "      <td>0.316458</td>\n",
              "      <td>0.154763</td>\n",
              "      <td>0.223685</td>\n",
              "      <td>0.304346</td>\n",
              "      <td>...</td>\n",
              "      <td>0.483622</td>\n",
              "      <td>0.449296</td>\n",
              "      <td>0.449296</td>\n",
              "      <td>0.449296</td>\n",
              "      <td>0.449296</td>\n",
              "      <td>0.449296</td>\n",
              "      <td>0.449296</td>\n",
              "      <td>0.449296</td>\n",
              "      <td>0.449296</td>\n",
              "      <td>Normal</td>\n",
              "    </tr>\n",
              "    <tr>\n",
              "      <th>1</th>\n",
              "      <td>2</td>\n",
              "      <td>0.258063</td>\n",
              "      <td>0.406593</td>\n",
              "      <td>0.321841</td>\n",
              "      <td>0.069771</td>\n",
              "      <td>0.333335</td>\n",
              "      <td>0.354432</td>\n",
              "      <td>0.321431</td>\n",
              "      <td>0.144740</td>\n",
              "      <td>0.260869</td>\n",
              "      <td>...</td>\n",
              "      <td>0.631765</td>\n",
              "      <td>0.619718</td>\n",
              "      <td>0.619718</td>\n",
              "      <td>0.619718</td>\n",
              "      <td>0.619718</td>\n",
              "      <td>0.619718</td>\n",
              "      <td>0.619718</td>\n",
              "      <td>0.619718</td>\n",
              "      <td>0.619718</td>\n",
              "      <td>Normal</td>\n",
              "    </tr>\n",
              "    <tr>\n",
              "      <th>2</th>\n",
              "      <td>3</td>\n",
              "      <td>0.537636</td>\n",
              "      <td>0.032966</td>\n",
              "      <td>0.321841</td>\n",
              "      <td>0.209307</td>\n",
              "      <td>0.404762</td>\n",
              "      <td>0.113927</td>\n",
              "      <td>0.369049</td>\n",
              "      <td>0.223685</td>\n",
              "      <td>0.536231</td>\n",
              "      <td>...</td>\n",
              "      <td>0.038462</td>\n",
              "      <td>0.035918</td>\n",
              "      <td>0.035918</td>\n",
              "      <td>0.035918</td>\n",
              "      <td>0.035918</td>\n",
              "      <td>0.035918</td>\n",
              "      <td>0.035918</td>\n",
              "      <td>0.035918</td>\n",
              "      <td>0.035918</td>\n",
              "      <td>Normal</td>\n",
              "    </tr>\n",
              "    <tr>\n",
              "      <th>3</th>\n",
              "      <td>4</td>\n",
              "      <td>0.000000</td>\n",
              "      <td>0.395605</td>\n",
              "      <td>0.310347</td>\n",
              "      <td>0.197673</td>\n",
              "      <td>0.404762</td>\n",
              "      <td>0.455701</td>\n",
              "      <td>0.416666</td>\n",
              "      <td>0.210527</td>\n",
              "      <td>0.420292</td>\n",
              "      <td>...</td>\n",
              "      <td>0.497864</td>\n",
              "      <td>0.486621</td>\n",
              "      <td>0.486621</td>\n",
              "      <td>0.486621</td>\n",
              "      <td>0.486621</td>\n",
              "      <td>0.486621</td>\n",
              "      <td>0.486621</td>\n",
              "      <td>0.486621</td>\n",
              "      <td>0.486621</td>\n",
              "      <td>Normal</td>\n",
              "    </tr>\n",
              "    <tr>\n",
              "      <th>4</th>\n",
              "      <td>5</td>\n",
              "      <td>0.526884</td>\n",
              "      <td>0.395605</td>\n",
              "      <td>0.367817</td>\n",
              "      <td>0.383719</td>\n",
              "      <td>0.488099</td>\n",
              "      <td>0.392405</td>\n",
              "      <td>0.238094</td>\n",
              "      <td>0.500000</td>\n",
              "      <td>0.362316</td>\n",
              "      <td>...</td>\n",
              "      <td>0.267096</td>\n",
              "      <td>0.251408</td>\n",
              "      <td>0.251408</td>\n",
              "      <td>0.251408</td>\n",
              "      <td>0.251408</td>\n",
              "      <td>0.251408</td>\n",
              "      <td>0.251408</td>\n",
              "      <td>0.251408</td>\n",
              "      <td>0.251408</td>\n",
              "      <td>Normal</td>\n",
              "    </tr>\n",
              "  </tbody>\n",
              "</table>\n",
              "<p>5 rows × 15156 columns</p>\n",
              "</div>"
            ],
            "text/plain": [
              "   id  MZ-7.86E-05  MZ2.18E-07  MZ9.60E-05  MZ0.000366014  MZ0.000810195  \\\n",
              "0   1     0.494626    0.263735    0.321841       0.220934       0.297622   \n",
              "1   2     0.258063    0.406593    0.321841       0.069771       0.333335   \n",
              "2   3     0.537636    0.032966    0.321841       0.209307       0.404762   \n",
              "3   4     0.000000    0.395605    0.310347       0.197673       0.404762   \n",
              "4   5     0.526884    0.395605    0.367817       0.383719       0.488099   \n",
              "\n",
              "   MZ0.001428564  MZ0.002221123  MZ0.003187869  MZ0.004328805  ...  \\\n",
              "0       0.316458       0.154763       0.223685       0.304346  ...   \n",
              "1       0.354432       0.321431       0.144740       0.260869  ...   \n",
              "2       0.113927       0.369049       0.223685       0.536231  ...   \n",
              "3       0.455701       0.416666       0.210527       0.420292  ...   \n",
              "4       0.392405       0.238094       0.500000       0.362316  ...   \n",
              "\n",
              "   MZ19974.404  MZ19977.042  MZ19979.68  MZ19982.319  MZ19984.957  \\\n",
              "0     0.483622     0.449296    0.449296     0.449296     0.449296   \n",
              "1     0.631765     0.619718    0.619718     0.619718     0.619718   \n",
              "2     0.038462     0.035918    0.035918     0.035918     0.035918   \n",
              "3     0.497864     0.486621    0.486621     0.486621     0.486621   \n",
              "4     0.267096     0.251408    0.251408     0.251408     0.251408   \n",
              "\n",
              "   MZ19987.596  MZ19990.235  MZ19992.874  MZ19995.513   Class  \n",
              "0     0.449296     0.449296     0.449296     0.449296  Normal  \n",
              "1     0.619718     0.619718     0.619718     0.619718  Normal  \n",
              "2     0.035918     0.035918     0.035918     0.035918  Normal  \n",
              "3     0.486621     0.486621     0.486621     0.486621  Normal  \n",
              "4     0.251408     0.251408     0.251408     0.251408  Normal  \n",
              "\n",
              "[5 rows x 15156 columns]"
            ]
          },
          "execution_count": 3,
          "metadata": {},
          "output_type": "execute_result"
        }
      ],
      "source": [
        "#read csv\n",
        "df = pd.read_csv('csv_result-Ovarian.csv')\n",
        "\n",
        "#display row of data frame\n",
        "df.head()"
      ]
    },
    {
      "cell_type": "code",
      "execution_count": null,
      "metadata": {
        "id": "vuMeU33Sjax-",
        "outputId": "f5995112-df9d-42ac-959a-ff00532ebe7a"
      },
      "outputs": [
        {
          "name": "stdout",
          "output_type": "stream",
          "text": [
            "<class 'pandas.core.frame.DataFrame'>\n",
            "RangeIndex: 253 entries, 0 to 252\n",
            "Columns: 15156 entries, id to Class\n",
            "dtypes: float64(15151), int64(4), object(1)\n",
            "memory usage: 29.3+ MB\n"
          ]
        },
        {
          "data": {
            "text/html": [
              "<div>\n",
              "<style scoped>\n",
              "    .dataframe tbody tr th:only-of-type {\n",
              "        vertical-align: middle;\n",
              "    }\n",
              "\n",
              "    .dataframe tbody tr th {\n",
              "        vertical-align: top;\n",
              "    }\n",
              "\n",
              "    .dataframe thead th {\n",
              "        text-align: right;\n",
              "    }\n",
              "</style>\n",
              "<table border=\"1\" class=\"dataframe\">\n",
              "  <thead>\n",
              "    <tr style=\"text-align: right;\">\n",
              "      <th></th>\n",
              "      <th>id</th>\n",
              "      <th>MZ-7.86E-05</th>\n",
              "      <th>MZ2.18E-07</th>\n",
              "      <th>MZ9.60E-05</th>\n",
              "      <th>MZ0.000366014</th>\n",
              "      <th>MZ0.000810195</th>\n",
              "      <th>MZ0.001428564</th>\n",
              "      <th>MZ0.002221123</th>\n",
              "      <th>MZ0.003187869</th>\n",
              "      <th>MZ0.004328805</th>\n",
              "      <th>...</th>\n",
              "      <th>MZ19971.766</th>\n",
              "      <th>MZ19974.404</th>\n",
              "      <th>MZ19977.042</th>\n",
              "      <th>MZ19979.68</th>\n",
              "      <th>MZ19982.319</th>\n",
              "      <th>MZ19984.957</th>\n",
              "      <th>MZ19987.596</th>\n",
              "      <th>MZ19990.235</th>\n",
              "      <th>MZ19992.874</th>\n",
              "      <th>MZ19995.513</th>\n",
              "    </tr>\n",
              "  </thead>\n",
              "  <tbody>\n",
              "    <tr>\n",
              "      <th>count</th>\n",
              "      <td>253.000000</td>\n",
              "      <td>253.000000</td>\n",
              "      <td>253.000000</td>\n",
              "      <td>253.000000</td>\n",
              "      <td>253.000000</td>\n",
              "      <td>253.000000</td>\n",
              "      <td>253.000000</td>\n",
              "      <td>253.000000</td>\n",
              "      <td>253.000000</td>\n",
              "      <td>253.000000</td>\n",
              "      <td>...</td>\n",
              "      <td>253.000000</td>\n",
              "      <td>253.000000</td>\n",
              "      <td>253.000000</td>\n",
              "      <td>253.000000</td>\n",
              "      <td>253.000000</td>\n",
              "      <td>253.000000</td>\n",
              "      <td>253.000000</td>\n",
              "      <td>253.000000</td>\n",
              "      <td>253.000000</td>\n",
              "      <td>253.000000</td>\n",
              "    </tr>\n",
              "    <tr>\n",
              "      <th>mean</th>\n",
              "      <td>127.000000</td>\n",
              "      <td>0.532450</td>\n",
              "      <td>0.462623</td>\n",
              "      <td>0.465859</td>\n",
              "      <td>0.421363</td>\n",
              "      <td>0.481133</td>\n",
              "      <td>0.489570</td>\n",
              "      <td>0.466263</td>\n",
              "      <td>0.512587</td>\n",
              "      <td>0.531018</td>\n",
              "      <td>...</td>\n",
              "      <td>0.435985</td>\n",
              "      <td>0.443944</td>\n",
              "      <td>0.430548</td>\n",
              "      <td>0.430548</td>\n",
              "      <td>0.430548</td>\n",
              "      <td>0.430548</td>\n",
              "      <td>0.430548</td>\n",
              "      <td>0.430548</td>\n",
              "      <td>0.430548</td>\n",
              "      <td>0.430548</td>\n",
              "    </tr>\n",
              "    <tr>\n",
              "      <th>std</th>\n",
              "      <td>73.179004</td>\n",
              "      <td>0.183136</td>\n",
              "      <td>0.196834</td>\n",
              "      <td>0.196418</td>\n",
              "      <td>0.212991</td>\n",
              "      <td>0.196406</td>\n",
              "      <td>0.185289</td>\n",
              "      <td>0.173548</td>\n",
              "      <td>0.214232</td>\n",
              "      <td>0.215837</td>\n",
              "      <td>...</td>\n",
              "      <td>0.160151</td>\n",
              "      <td>0.156482</td>\n",
              "      <td>0.155192</td>\n",
              "      <td>0.155192</td>\n",
              "      <td>0.155192</td>\n",
              "      <td>0.155192</td>\n",
              "      <td>0.155192</td>\n",
              "      <td>0.155192</td>\n",
              "      <td>0.155192</td>\n",
              "      <td>0.155192</td>\n",
              "    </tr>\n",
              "    <tr>\n",
              "      <th>min</th>\n",
              "      <td>1.000000</td>\n",
              "      <td>0.000000</td>\n",
              "      <td>0.000000</td>\n",
              "      <td>0.000000</td>\n",
              "      <td>0.000000</td>\n",
              "      <td>0.000000</td>\n",
              "      <td>0.000000</td>\n",
              "      <td>0.000000</td>\n",
              "      <td>0.000000</td>\n",
              "      <td>0.000000</td>\n",
              "      <td>...</td>\n",
              "      <td>0.000000</td>\n",
              "      <td>0.000000</td>\n",
              "      <td>0.000000</td>\n",
              "      <td>0.000000</td>\n",
              "      <td>0.000000</td>\n",
              "      <td>0.000000</td>\n",
              "      <td>0.000000</td>\n",
              "      <td>0.000000</td>\n",
              "      <td>0.000000</td>\n",
              "      <td>0.000000</td>\n",
              "    </tr>\n",
              "    <tr>\n",
              "      <th>25%</th>\n",
              "      <td>64.000000</td>\n",
              "      <td>0.397850</td>\n",
              "      <td>0.329667</td>\n",
              "      <td>0.321841</td>\n",
              "      <td>0.255817</td>\n",
              "      <td>0.345240</td>\n",
              "      <td>0.354432</td>\n",
              "      <td>0.345240</td>\n",
              "      <td>0.342109</td>\n",
              "      <td>0.362316</td>\n",
              "      <td>...</td>\n",
              "      <td>0.324327</td>\n",
              "      <td>0.334049</td>\n",
              "      <td>0.330282</td>\n",
              "      <td>0.330282</td>\n",
              "      <td>0.330282</td>\n",
              "      <td>0.330282</td>\n",
              "      <td>0.330282</td>\n",
              "      <td>0.330282</td>\n",
              "      <td>0.330282</td>\n",
              "      <td>0.330282</td>\n",
              "    </tr>\n",
              "    <tr>\n",
              "      <th>50%</th>\n",
              "      <td>127.000000</td>\n",
              "      <td>0.537636</td>\n",
              "      <td>0.461537</td>\n",
              "      <td>0.459768</td>\n",
              "      <td>0.430235</td>\n",
              "      <td>0.476194</td>\n",
              "      <td>0.468359</td>\n",
              "      <td>0.464290</td>\n",
              "      <td>0.500000</td>\n",
              "      <td>0.536231</td>\n",
              "      <td>...</td>\n",
              "      <td>0.441929</td>\n",
              "      <td>0.451566</td>\n",
              "      <td>0.433102</td>\n",
              "      <td>0.433102</td>\n",
              "      <td>0.433102</td>\n",
              "      <td>0.433102</td>\n",
              "      <td>0.433102</td>\n",
              "      <td>0.433102</td>\n",
              "      <td>0.433102</td>\n",
              "      <td>0.433102</td>\n",
              "    </tr>\n",
              "    <tr>\n",
              "      <th>75%</th>\n",
              "      <td>190.000000</td>\n",
              "      <td>0.655912</td>\n",
              "      <td>0.593407</td>\n",
              "      <td>0.597701</td>\n",
              "      <td>0.569765</td>\n",
              "      <td>0.619047</td>\n",
              "      <td>0.620253</td>\n",
              "      <td>0.595238</td>\n",
              "      <td>0.684212</td>\n",
              "      <td>0.710146</td>\n",
              "      <td>...</td>\n",
              "      <td>0.544194</td>\n",
              "      <td>0.547010</td>\n",
              "      <td>0.541554</td>\n",
              "      <td>0.541554</td>\n",
              "      <td>0.541554</td>\n",
              "      <td>0.541554</td>\n",
              "      <td>0.541554</td>\n",
              "      <td>0.541554</td>\n",
              "      <td>0.541554</td>\n",
              "      <td>0.541554</td>\n",
              "    </tr>\n",
              "    <tr>\n",
              "      <th>max</th>\n",
              "      <td>253.000000</td>\n",
              "      <td>1.000000</td>\n",
              "      <td>1.000000</td>\n",
              "      <td>1.000000</td>\n",
              "      <td>1.000000</td>\n",
              "      <td>1.000000</td>\n",
              "      <td>1.000000</td>\n",
              "      <td>1.000000</td>\n",
              "      <td>1.000000</td>\n",
              "      <td>1.000000</td>\n",
              "      <td>...</td>\n",
              "      <td>1.000000</td>\n",
              "      <td>1.000000</td>\n",
              "      <td>1.000000</td>\n",
              "      <td>1.000000</td>\n",
              "      <td>1.000000</td>\n",
              "      <td>1.000000</td>\n",
              "      <td>1.000000</td>\n",
              "      <td>1.000000</td>\n",
              "      <td>1.000000</td>\n",
              "      <td>1.000000</td>\n",
              "    </tr>\n",
              "  </tbody>\n",
              "</table>\n",
              "<p>8 rows × 15155 columns</p>\n",
              "</div>"
            ],
            "text/plain": [
              "               id  MZ-7.86E-05  MZ2.18E-07  MZ9.60E-05  MZ0.000366014  \\\n",
              "count  253.000000   253.000000  253.000000  253.000000     253.000000   \n",
              "mean   127.000000     0.532450    0.462623    0.465859       0.421363   \n",
              "std     73.179004     0.183136    0.196834    0.196418       0.212991   \n",
              "min      1.000000     0.000000    0.000000    0.000000       0.000000   \n",
              "25%     64.000000     0.397850    0.329667    0.321841       0.255817   \n",
              "50%    127.000000     0.537636    0.461537    0.459768       0.430235   \n",
              "75%    190.000000     0.655912    0.593407    0.597701       0.569765   \n",
              "max    253.000000     1.000000    1.000000    1.000000       1.000000   \n",
              "\n",
              "       MZ0.000810195  MZ0.001428564  MZ0.002221123  MZ0.003187869  \\\n",
              "count     253.000000     253.000000     253.000000     253.000000   \n",
              "mean        0.481133       0.489570       0.466263       0.512587   \n",
              "std         0.196406       0.185289       0.173548       0.214232   \n",
              "min         0.000000       0.000000       0.000000       0.000000   \n",
              "25%         0.345240       0.354432       0.345240       0.342109   \n",
              "50%         0.476194       0.468359       0.464290       0.500000   \n",
              "75%         0.619047       0.620253       0.595238       0.684212   \n",
              "max         1.000000       1.000000       1.000000       1.000000   \n",
              "\n",
              "       MZ0.004328805  ...  MZ19971.766  MZ19974.404  MZ19977.042  MZ19979.68  \\\n",
              "count     253.000000  ...   253.000000   253.000000   253.000000  253.000000   \n",
              "mean        0.531018  ...     0.435985     0.443944     0.430548    0.430548   \n",
              "std         0.215837  ...     0.160151     0.156482     0.155192    0.155192   \n",
              "min         0.000000  ...     0.000000     0.000000     0.000000    0.000000   \n",
              "25%         0.362316  ...     0.324327     0.334049     0.330282    0.330282   \n",
              "50%         0.536231  ...     0.441929     0.451566     0.433102    0.433102   \n",
              "75%         0.710146  ...     0.544194     0.547010     0.541554    0.541554   \n",
              "max         1.000000  ...     1.000000     1.000000     1.000000    1.000000   \n",
              "\n",
              "       MZ19982.319  MZ19984.957  MZ19987.596  MZ19990.235  MZ19992.874  \\\n",
              "count   253.000000   253.000000   253.000000   253.000000   253.000000   \n",
              "mean      0.430548     0.430548     0.430548     0.430548     0.430548   \n",
              "std       0.155192     0.155192     0.155192     0.155192     0.155192   \n",
              "min       0.000000     0.000000     0.000000     0.000000     0.000000   \n",
              "25%       0.330282     0.330282     0.330282     0.330282     0.330282   \n",
              "50%       0.433102     0.433102     0.433102     0.433102     0.433102   \n",
              "75%       0.541554     0.541554     0.541554     0.541554     0.541554   \n",
              "max       1.000000     1.000000     1.000000     1.000000     1.000000   \n",
              "\n",
              "       MZ19995.513  \n",
              "count   253.000000  \n",
              "mean      0.430548  \n",
              "std       0.155192  \n",
              "min       0.000000  \n",
              "25%       0.330282  \n",
              "50%       0.433102  \n",
              "75%       0.541554  \n",
              "max       1.000000  \n",
              "\n",
              "[8 rows x 15155 columns]"
            ]
          },
          "execution_count": 4,
          "metadata": {},
          "output_type": "execute_result"
        }
      ],
      "source": [
        "#data exploration\n",
        "df.info()\n",
        "df.describe()"
      ]
    },
    {
      "cell_type": "code",
      "execution_count": null,
      "metadata": {
        "id": "5WEQtSgMjax-"
      },
      "outputs": [],
      "source": [
        "# Check for missing values\n",
        "df.isnull().sum()\n",
        "\n",
        "# Drop rows with missing values\n",
        "df_cleaned = df.dropna()"
      ]
    },
    {
      "cell_type": "code",
      "execution_count": null,
      "metadata": {
        "id": "Rgk-0y2ljax-",
        "outputId": "afd35d1f-c73c-4a66-d542-38382bcf5fc3"
      },
      "outputs": [
        {
          "name": "stdout",
          "output_type": "stream",
          "text": [
            "Duplicate Rows except first occurrence:\n",
            "Empty DataFrame\n",
            "Columns: [id, MZ-7.86E-05, MZ2.18E-07, MZ9.60E-05, MZ0.000366014, MZ0.000810195, MZ0.001428564, MZ0.002221123, MZ0.003187869, MZ0.004328805, MZ0.005643929, MZ0.007133241, MZ0.008796743, MZ0.010634432, MZ0.012646311, MZ0.014832378, MZ0.017192634, MZ0.019727078, MZ0.022435711, MZ0.025318532, MZ0.028375542, MZ0.031606741, MZ0.035012128, MZ0.038591704, MZ0.042345469, MZ0.046273422, MZ0.050375564, MZ0.054651894, MZ0.059102413, MZ0.063727121, MZ0.068526017, MZ0.073499102, MZ0.078646375, MZ0.083967837, MZ0.089463488, MZ0.095133327, MZ0.10097736, MZ0.10699557, MZ0.11318798, MZ0.11955457, MZ0.12609535, MZ0.13281032, MZ0.13969948, MZ0.14676283, MZ0.15400037, MZ0.16141209, MZ0.16899801, MZ0.17675811, MZ0.1846924, MZ0.19280088, MZ0.20108355, MZ0.20954041, MZ0.21817145, MZ0.22697669, MZ0.23595611, MZ0.24510972, MZ0.25443752, MZ0.26393951, MZ0.27361569, MZ0.28346605, MZ0.29349061, MZ0.30368935, MZ0.31406228, MZ0.3246094, MZ0.33533071, MZ0.34622621, MZ0.3572959, MZ0.36853977, MZ0.37995783, MZ0.39155009, MZ0.40331653, MZ0.41525716, MZ0.42737197, MZ0.43966098, MZ0.45212418, MZ0.46476156, MZ0.47757313, MZ0.49055889, MZ0.50371884, MZ0.51705298, MZ0.53056131, MZ0.54424382, MZ0.55810053, MZ0.57213142, MZ0.5863365, MZ0.60071577, MZ0.61526923, MZ0.62999688, MZ0.64489871, MZ0.65997473, MZ0.67522495, MZ0.69064935, MZ0.70624794, MZ0.72202072, MZ0.73796769, MZ0.75408884, MZ0.77038419, MZ0.78685372, MZ0.80349744, MZ0.82031535, ...]\n",
            "Index: []\n",
            "\n",
            "[0 rows x 15156 columns]\n",
            "Number of duplicate rows: 0\n"
          ]
        }
      ],
      "source": [
        "# Check for duplicate rows in the DataFrame\n",
        "duplicate_rows = df[df.duplicated()]\n",
        "\n",
        "# Display duplicate rows, if any\n",
        "print(\"Duplicate Rows except first occurrence:\")\n",
        "print(duplicate_rows)\n",
        "\n",
        "# Count the number of duplicate rows\n",
        "num_duplicates = df.duplicated().sum()\n",
        "print(f\"Number of duplicate rows: {num_duplicates}\")"
      ]
    },
    {
      "cell_type": "code",
      "execution_count": null,
      "metadata": {
        "id": "M3ixbd7zjax-"
      },
      "outputs": [],
      "source": [
        "# Encode categorical columns (if any)\n",
        "le = LabelEncoder()\n",
        "categorical_columns = df.select_dtypes(include=['object']).columns\n",
        "df[categorical_columns] = df[categorical_columns].apply(lambda col: le.fit_transform(col.astype(str)))\n",
        "\n",
        "# Display the DataFrame after encoding categorical columns\n",
        "numerical_columns_to_normalize = df.columns[1:-1]\n",
        "\n",
        "# Check and handle non-numeric values\n",
        "df[numerical_columns_to_normalize] = df[numerical_columns_to_normalize].apply(pd.to_numeric, errors='coerce')"
      ]
    },
    {
      "cell_type": "code",
      "execution_count": null,
      "metadata": {
        "id": "myRus9z4jax_"
      },
      "outputs": [],
      "source": [
        "# Normalize numerical using Min-Max scaling\n",
        "scaler = MinMaxScaler()\n",
        "df[numerical_columns_to_normalize] = scaler.fit_transform(df[numerical_columns_to_normalize])"
      ]
    },
    {
      "cell_type": "code",
      "execution_count": null,
      "metadata": {
        "colab": {
          "base_uri": "https://localhost:8080/",
          "height": 245
        },
        "id": "fcT7WYUXjax_",
        "outputId": "a865f3fb-ff79-4b45-a280-9d9e30bdd78d"
      },
      "outputs": [
        {
          "output_type": "error",
          "ename": "NameError",
          "evalue": "name 'df' is not defined",
          "traceback": [
            "\u001b[0;31m---------------------------------------------------------------------------\u001b[0m",
            "\u001b[0;31mNameError\u001b[0m                                 Traceback (most recent call last)",
            "\u001b[0;32m<ipython-input-2-d9d7bf98fca4>\u001b[0m in \u001b[0;36m<cell line: 2>\u001b[0;34m()\u001b[0m\n\u001b[1;32m      1\u001b[0m \u001b[0;31m# Exclude 'id'\u001b[0m\u001b[0;34m\u001b[0m\u001b[0;34m\u001b[0m\u001b[0m\n\u001b[0;32m----> 2\u001b[0;31m \u001b[0;32mif\u001b[0m \u001b[0;34m'id'\u001b[0m \u001b[0;32min\u001b[0m \u001b[0mdf\u001b[0m\u001b[0;34m.\u001b[0m\u001b[0mcolumns\u001b[0m\u001b[0;34m:\u001b[0m\u001b[0;34m\u001b[0m\u001b[0;34m\u001b[0m\u001b[0m\n\u001b[0m\u001b[1;32m      3\u001b[0m     \u001b[0mcolumns_to_exclude\u001b[0m \u001b[0;34m=\u001b[0m \u001b[0;34m[\u001b[0m\u001b[0;34m'id'\u001b[0m\u001b[0;34m]\u001b[0m\u001b[0;34m\u001b[0m\u001b[0;34m\u001b[0m\u001b[0m\n\u001b[1;32m      4\u001b[0m     \u001b[0mdata\u001b[0m \u001b[0;34m=\u001b[0m \u001b[0mdf\u001b[0m\u001b[0;34m.\u001b[0m\u001b[0mdrop\u001b[0m\u001b[0;34m(\u001b[0m\u001b[0mcolumns\u001b[0m\u001b[0;34m=\u001b[0m\u001b[0mcolumns_to_exclude\u001b[0m\u001b[0;34m,\u001b[0m \u001b[0merrors\u001b[0m\u001b[0;34m=\u001b[0m\u001b[0;34m'ignore'\u001b[0m\u001b[0;34m)\u001b[0m\u001b[0;34m\u001b[0m\u001b[0;34m\u001b[0m\u001b[0m\n\u001b[1;32m      5\u001b[0m \u001b[0;34m\u001b[0m\u001b[0m\n",
            "\u001b[0;31mNameError\u001b[0m: name 'df' is not defined"
          ]
        }
      ],
      "source": [
        "# Exclude 'id'\n",
        "if 'id' in df.columns:\n",
        "    columns_to_exclude = ['id']\n",
        "    data = df.drop(columns=columns_to_exclude, errors='ignore')\n",
        "\n",
        "# Assuming the target column is the last column, separate features and target\n",
        "X = data.iloc[:, :-1]  # Features (all columns kecuali last)\n",
        "y = data.iloc[:, -1]  # Target variable (last column)"
      ]
    },
    {
      "cell_type": "markdown",
      "metadata": {
        "id": "U4WgZqpvjax_"
      },
      "source": [
        "### CHI-SQUARE"
      ]
    },
    {
      "cell_type": "code",
      "execution_count": null,
      "metadata": {
        "colab": {
          "base_uri": "https://localhost:8080/",
          "height": 245
        },
        "id": "pgPLnHyGjax_",
        "outputId": "16a4057f-7683-478d-f9a6-b23a01e42171"
      },
      "outputs": [
        {
          "output_type": "error",
          "ename": "NameError",
          "evalue": "name 'SelectKBest' is not defined",
          "traceback": [
            "\u001b[0;31m---------------------------------------------------------------------------\u001b[0m",
            "\u001b[0;31mNameError\u001b[0m                                 Traceback (most recent call last)",
            "\u001b[0;32m<ipython-input-1-eacf576bca4f>\u001b[0m in \u001b[0;36m<cell line: 2>\u001b[0;34m()\u001b[0m\n\u001b[1;32m      1\u001b[0m \u001b[0;31m# Chi-square feature selection\u001b[0m\u001b[0;34m\u001b[0m\u001b[0;34m\u001b[0m\u001b[0m\n\u001b[0;32m----> 2\u001b[0;31m \u001b[0mk_best\u001b[0m \u001b[0;34m=\u001b[0m \u001b[0mSelectKBest\u001b[0m\u001b[0;34m(\u001b[0m\u001b[0mchi2\u001b[0m\u001b[0;34m,\u001b[0m \u001b[0mk\u001b[0m\u001b[0;34m=\u001b[0m\u001b[0;36m5\u001b[0m\u001b[0;34m)\u001b[0m\u001b[0;34m\u001b[0m\u001b[0;34m\u001b[0m\u001b[0m\n\u001b[0m\u001b[1;32m      3\u001b[0m \u001b[0mX_selected\u001b[0m \u001b[0;34m=\u001b[0m \u001b[0mk_best\u001b[0m\u001b[0;34m.\u001b[0m\u001b[0mfit_transform\u001b[0m\u001b[0;34m(\u001b[0m\u001b[0mX\u001b[0m\u001b[0;34m,\u001b[0m \u001b[0my\u001b[0m\u001b[0;34m)\u001b[0m\u001b[0;34m\u001b[0m\u001b[0;34m\u001b[0m\u001b[0m\n\u001b[1;32m      4\u001b[0m \u001b[0;34m\u001b[0m\u001b[0m\n\u001b[1;32m      5\u001b[0m \u001b[0;31m# Get the selected feature indices\u001b[0m\u001b[0;34m\u001b[0m\u001b[0;34m\u001b[0m\u001b[0m\n",
            "\u001b[0;31mNameError\u001b[0m: name 'SelectKBest' is not defined"
          ]
        }
      ],
      "source": [
        "# Chi-square feature selection\n",
        "k_best = SelectKBest(chi2, k=5)\n",
        "X_selected = k_best.fit_transform(X, y)\n",
        "\n",
        "# Get the selected feature indices\n",
        "selected_feature_indices = k_best.get_support()\n",
        "\n",
        "# Get the original column names of all features\n",
        "all_feature_names = np.array(X.columns)\n",
        "\n",
        "# Get the original column names of the selected features\n",
        "selected_feature_names = all_feature_names[selected_feature_indices]\n",
        "\n",
        "# Create a DataFrame using the reference column names and the selected features\n",
        "X_selected_df = pd.DataFrame(X_selected, columns=selected_feature_names)\n",
        "\n",
        "# Split the data into training and testing sets\n",
        "X_train, X_test, y_train, y_test = train_test_split(X_selected_df, y, test_size=0.2, random_state=42)"
      ]
    },
    {
      "cell_type": "markdown",
      "metadata": {
        "id": "yHGoOIV4jayA"
      },
      "source": [
        "### RFE-SVM"
      ]
    },
    {
      "cell_type": "code",
      "execution_count": null,
      "metadata": {
        "id": "R1k-K2JejayA",
        "outputId": "b18edacb-5195-4c36-fa39-a81731d37497"
      },
      "outputs": [
        {
          "name": "stdout",
          "output_type": "stream",
          "text": [
            "Top 5 Genes for Classification (SVM-RFE):\n",
            "MZ244.36855    1.0\n",
            "MZ244.66041    1.0\n",
            "MZ244.95245    1.0\n",
            "MZ245.24466    1.0\n",
            "MZ245.53704    1.0\n",
            "dtype: float64\n"
          ]
        }
      ],
      "source": [
        "# SVM-RFE\n",
        "svm_classifier = SVC(kernel='linear')\n",
        "num_top_genes = 5  # Specify the number of top genes to display\n",
        "\n",
        "# Store the column names before the transformation\n",
        "column_names = X_train.columns\n",
        "\n",
        "# SVM-RFE\n",
        "rfe_svm = RFE(estimator=svm_classifier, n_features_to_select=num_top_genes)\n",
        "X_train_svm_rfe = rfe_svm.fit_transform(X_train, y_train)\n",
        "\n",
        "# Get the original column names of the selected features\n",
        "selected_feature_names_svm = column_names[rfe_svm.support_]\n",
        "\n",
        "# Convert selected features back to a DataFrame\n",
        "selected_features_svm_df = pd.DataFrame(X_train_svm_rfe, columns=selected_feature_names_svm)\n",
        "\n",
        "# Display the top genes contributing to classification for SVM-RFE\n",
        "top_genes_svm = selected_features_svm_df.max().sort_values(ascending=False)\n",
        "print(f\"Top {num_top_genes} Genes for Classification (SVM-RFE):\")\n",
        "print(top_genes_svm)"
      ]
    },
    {
      "cell_type": "code",
      "execution_count": null,
      "metadata": {
        "id": "RVVf67JhjayB",
        "outputId": "354f9b2b-96bd-4458-96d4-69e45799aa04"
      },
      "outputs": [
        {
          "name": "stdout",
          "output_type": "stream",
          "text": [
            "Average Accuracy after SVM-RFE with Cross-Validation: 96.51%\n",
            "Average F1 Score after SVM-RFE with Cross-Validation: 0.9517\n"
          ]
        }
      ],
      "source": [
        "# Perform cross-validation with SVM classifier after SVM-RFE\n",
        "stratified_kfold = StratifiedKFold(n_splits=5, shuffle=True, random_state=42)\n",
        "\n",
        "cv_accuracy_svm = cross_val_score(svm_classifier, X_train_svm_rfe, y_train, cv=stratified_kfold, scoring='accuracy')\n",
        "cv_f1_svm = cross_val_score(svm_classifier, X_train_svm_rfe, y_train, cv=stratified_kfold, scoring='f1')\n",
        "\n",
        "# Print average accuracy and F1 score after SVM-RFE and cross-validation\n",
        "print(f\"Average Accuracy after SVM-RFE with Cross-Validation: {cv_accuracy_svm.mean() * 100:.2f}%\")\n",
        "print(f\"Average F1 Score after SVM-RFE with Cross-Validation: {cv_f1_svm.mean():.4f}\")"
      ]
    },
    {
      "cell_type": "markdown",
      "metadata": {
        "id": "nDJ7GBxujayB"
      },
      "source": [
        "### RANDOM FOREST - RFE"
      ]
    },
    {
      "cell_type": "code",
      "execution_count": null,
      "metadata": {
        "id": "2YnkuVq5jayB",
        "outputId": "39e5029c-2b5b-4a9b-9cb7-c805bc25881e"
      },
      "outputs": [
        {
          "name": "stdout",
          "output_type": "stream",
          "text": [
            "Top 5 Genes for Classification (RF-RFE):\n",
            "MZ244.36855    1.0\n",
            "MZ244.66041    1.0\n",
            "MZ244.95245    1.0\n",
            "MZ245.24466    1.0\n",
            "MZ245.53704    1.0\n",
            "dtype: float64\n"
          ]
        }
      ],
      "source": [
        "# Random Forest classifier\n",
        "rf_classifier = RandomForestClassifier(n_estimators=100, random_state=42)\n",
        "\n",
        "# RF-RFE\n",
        "num_top_genes_rf = 5  # Specify the number of top genes to select for RF-RFE\n",
        "rfe_rf = RFE(estimator=rf_classifier, n_features_to_select=num_top_genes_rf)\n",
        "X_train_selected_rf = rfe_rf.fit_transform(X_train, y_train)\n",
        "\n",
        "# Get the original column names of the selected features\n",
        "selected_feature_names_rf = X_train.columns[rfe_rf.support_]\n",
        "\n",
        "# Create a DataFrame using the reference column names and the selected features for RF-RFE\n",
        "selected_features_df_rf = pd.DataFrame(X_train_selected_rf, columns=selected_feature_names_rf)\n",
        "\n",
        "# Display the top genes contributing to classification for RF-RFE\n",
        "top_genes_rf = selected_features_df_rf.max().sort_values(ascending=False)\n",
        "print(f\"Top {num_top_genes_rf} Genes for Classification (RF-RFE):\")\n",
        "print(top_genes_rf)"
      ]
    },
    {
      "cell_type": "code",
      "execution_count": null,
      "metadata": {
        "id": "L9g34nUHjayB",
        "outputId": "fe1c810e-4770-484e-83e6-2eb1d12893af"
      },
      "outputs": [
        {
          "name": "stdout",
          "output_type": "stream",
          "text": [
            "Average Accuracy after RF-RFE with Cross-Validation: 97.01%\n",
            "Average F1 Score after RF-RFE with Cross-Validation: 0.9586\n"
          ]
        }
      ],
      "source": [
        "# Perform cross-validation with Random Forest classifier\n",
        "stratified_kfold = StratifiedKFold(n_splits=5, shuffle=True, random_state=42)\n",
        "\n",
        "cv_accuracy_rf = cross_val_score(rf_classifier, X_train_selected_rf, y_train, cv=stratified_kfold, scoring='accuracy')\n",
        "cv_f1_rf = cross_val_score(rf_classifier, X_train_selected_rf, y_train, cv=stratified_kfold, scoring='f1')\n",
        "\n",
        "# Print average accuracy and F1 score after RF-RFE and cross-validation\n",
        "print(f\"Average Accuracy after RF-RFE with Cross-Validation: {cv_accuracy_rf.mean() * 100:.2f}%\")\n",
        "print(f\"Average F1 Score after RF-RFE with Cross-Validation: {cv_f1_rf.mean():.4f}\")"
      ]
    },
    {
      "cell_type": "code",
      "execution_count": null,
      "metadata": {
        "id": "UEQiToyZjayB",
        "outputId": "a969040d-fbdb-485a-fe53-4d3217651afc"
      },
      "outputs": [
        {
          "data": {
            "image/png": "[encoded data removed]",
            "text/plain": [
              "<Figure size 1000x600 with 1 Axes>"
            ]
          },
          "metadata": {},
          "output_type": "display_data"
        },
        {
          "data": {
            "image/png": "[encoded data removed]",
            "text/plain": [
              "<Figure size 1000x600 with 1 Axes>"
            ]
          },
          "metadata": {},
          "output_type": "display_data"
        }
      ],
      "source": [
        "# Set the y-axis scale to a smaller range\n",
        "y_max = max(cv_accuracy_svm.mean(), cv_accuracy_rf.mean(), cv_f1_svm.mean(), cv_f1_rf.mean()) + 0.05\n",
        "\n",
        "# Create a bar plot for accuracy comparison\n",
        "plt.figure(figsize=(10, 6))\n",
        "sns.barplot(x=['SVM', 'Random Forest'], y=[cv_accuracy_svm.mean(), cv_accuracy_rf.mean()])\n",
        "plt.title('Comparison of Cross-Validated Accuracy: SVM vs Random Forest')\n",
        "plt.ylabel('Accuracy')\n",
        "plt.show()\n",
        "\n",
        "# Create a bar plot for F1 score comparison\n",
        "plt.figure(figsize=(10, 6))\n",
        "sns.barplot(x=['SVM', 'Random Forest'], y=[cv_f1_svm.mean(), cv_f1_rf.mean()])\n",
        "plt.title('Comparison of Cross-Validated F1 Score: SVM vs Random Forest')\n",
        "plt.ylabel('F1 Score')\n",
        "plt.show()\n"
      ]
    }
  ],
  "metadata": {
    "kernelspec": {
      "display_name": "Python 3",
      "language": "python",
      "name": "python3"
    },
    "language_info": {
      "codemirror_mode": {
        "name": "ipython",
        "version": 3
      },
      "file_extension": ".py",
      "mimetype": "text/x-python",
      "name": "python",
      "nbconvert_exporter": "python",
      "pygments_lexer": "ipython3",
      "version": "3.11.6"
    },
    "colab": {
      "provenance": []
    }
  },
  "nbformat": 4,
  "nbformat_minor": 0
}